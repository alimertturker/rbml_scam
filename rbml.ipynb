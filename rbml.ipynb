{
 "cells": [
  {
   "cell_type": "code",
   "execution_count": 271,
   "id": "90bdc05a",
   "metadata": {},
   "outputs": [],
   "source": [
    "import pandas as pd\n",
    "import numpy as np\n",
    "import matplotlib.pyplot as plt \n",
    "from sklearn.neighbors import NearestNeighbors\n",
    "from numpy import linalg as LA\n",
    "from tqdm import tqdm\n",
    "from sklearn.neighbors import KNeighborsClassifier\n",
    "from sklearn.metrics import accuracy_score"
   ]
  },
  {
   "cell_type": "code",
   "execution_count": 272,
   "id": "81b671c9",
   "metadata": {},
   "outputs": [],
   "source": [
    "data = pd.read_csv(\"diabetes.csv\")\n",
    "x = data.iloc[:, [0, 1, 2, 3, 4, 5, 6, 7]].values\n",
    "y = data.iloc[:, [8]].values.ravel()\n",
    "labels = np.unique(y)"
   ]
  },
  {
   "cell_type": "code",
   "execution_count": 273,
   "id": "eab863c8",
   "metadata": {},
   "outputs": [],
   "source": [
    "class RBML:\n",
    "    def __init__(self, x, y, k=3, alpha=0.5, beta=2.):\n",
    "        self.x = x\n",
    "        self.len_ = len(x)\n",
    "        self.y = y\n",
    "        self.k = k\n",
    "        self.alpha = alpha\n",
    "        self.beta = beta\n",
    "        self.labels = np.unique(self.y)\n",
    "        self.neigh = NearestNeighbors(n_neighbors=4)\n",
    "        self.neigh.fit(self.x)\n",
    "        \n",
    "    def find_target_neighbors(self, i):\n",
    "        neighbors = self.neigh.kneighbors(self.x[i].reshape(1, -1), self.len_, return_distance=False)[:,1:][0]\n",
    "        target_neighbors = []\n",
    "        label = y[i]\n",
    "        count_ = 0\n",
    "        l = 0\n",
    "        while count_ != self.k and l < self.len_-1:\n",
    "            if self.y[neighbors[l]] == label:\n",
    "                target_neighbors.append(neighbors[l])\n",
    "                count_+=1\n",
    "            l+=1\n",
    "        return target_neighbors    \n",
    "    \n",
    "    def find_imposters(self, i):\n",
    "        neighbors = self.neigh.kneighbors(self.x[i].reshape(1, -1), self.len_, return_distance=False)[:,1:][0]\n",
    "        imposters = []\n",
    "        label = y[i]\n",
    "        k = 0\n",
    "        while k < self.len_-1:\n",
    "            if self.y[neighbors[k]] != label:\n",
    "                imposters.append(neighbors[k])\n",
    "            k+=1\n",
    "        return imposters\n",
    "    \n",
    "    def delta_t(self, i, j):\n",
    "        neighbors = self.find_target_neighbors(i)\n",
    "        return 1 if j in neighbors else 0\n",
    "    \n",
    "    def Tv(self, i):\n",
    "        sum_ = 0\n",
    "        for j in range(self.len_):\n",
    "            sum_ += (LA.norm(x[i] - x[j])**2)*self.delta_t(i, j)\n",
    "        return sum_\n",
    "    \n",
    "    def TX(self):\n",
    "        sum_ = 0\n",
    "        print(\"TX calculation started\")\n",
    "        for i in tqdm(range(self.len_)):\n",
    "            sum_ += self.Tv(i)\n",
    "        return sum_\n",
    "    \n",
    "    def m(self, i):\n",
    "        neighbors = self.find_target_neighbors(i)\n",
    "        # neighbors[-1] most distant target neighbor\n",
    "        mi = self.beta*(LA.norm(x[i] - self.x[neighbors[-1]])**2)*self.delta_t(i, neighbors[-1])\n",
    "        return mi\n",
    "    \n",
    "    def delta_i(self, i, j):\n",
    "        #print(\"la\",LA.norm(x[i] - x[j])**2)\n",
    "        #print(\"mi\",self.m(i))\n",
    "        t1 = (LA.norm(x[i] - x[j])**2 < self.m(i))\n",
    "        t2 = (y[i] != y[j])\n",
    "        return 1 if t1 and t2 else 0\n",
    "    \n",
    "    def Hv(self, i):\n",
    "        sum_ = 0\n",
    "        for j in range(self.len_):\n",
    "            sum_ += (self.m(i) - LA.norm(x[i] - x[j])**2)*self.delta_i(i,j)\n",
    "        return sum_\n",
    "    \n",
    "    def HX(self):\n",
    "        sum_ = 0\n",
    "        print(\"HX calculation started\")\n",
    "        for i in tqdm(range(self.len_)):\n",
    "            sum_ += self.Hv(i)\n",
    "        return sum_\n",
    "    \n",
    "    def C(self):\n",
    "        return (1-self.alpha)*self.TX() + self.alpha*self.HX()\n",
    "    \n",
    "    def xiN(self, i):\n",
    "        sum_ = 0\n",
    "        sum_t = 0\n",
    "        for j in range(len(self.x)):\n",
    "            sum_ += self.x[j]*self.delta_t(i,j)\n",
    "            sum_t += self.delta_t(i,j)\n",
    "        \n",
    "        return sum_/sum_t if sum_t != 0 else 0\n",
    "    \n",
    "    def xjI(self, i):\n",
    "        sum_ = 0\n",
    "        sum_t = 0\n",
    "        for j in range(self.len_):\n",
    "            delta_value = self.delta_i(i,j)\n",
    "            sum_ += self.x[j]*delta_value\n",
    "            sum_t += delta_value\n",
    "        #  if sum_t != 0 else 0\n",
    "        return sum_/sum_t if sum_t != 0 else 0\n",
    "    \n",
    "    # Updated hinge loss\n",
    "    def Hv_(self, i):\n",
    "        return max(0, (self.m(i) - LA.norm(x[i] - self.xjI(i))**2))\n",
    "    \n",
    "    def xiH(self, i):\n",
    "        return self.x[i] + self.m(i)*((self.x[i]-self.xjI(i))/(LA.norm(x[i] - self.xjI(i))**2))  \n",
    "    \n",
    "    def xi_star(self, i):\n",
    "        return (1-self.alpha)*self.xiN(i) + self.alpha*self.xiH(i)"
   ]
  },
  {
   "cell_type": "code",
   "execution_count": 274,
   "id": "06a510eb",
   "metadata": {},
   "outputs": [],
   "source": [
    "def convergence_method(x, y, k):\n",
    "    classifier = KNeighborsClassifier(n_neighbors=k)\n",
    "    classifier.fit(x, y)\n",
    "    y_pred = classifier.predict(x)\n",
    "    acc = accuracy_score(y, y_pred)\n",
    "    return acc"
   ]
  },
  {
   "cell_type": "markdown",
   "id": "e85584b2",
   "metadata": {},
   "source": [
    "# Iris Dataset"
   ]
  },
  {
   "cell_type": "code",
   "execution_count": null,
   "id": "70ba9e47",
   "metadata": {},
   "outputs": [],
   "source": [
    "data = pd.read_csv(\"IRIS.csv\")\n",
    "x = data.iloc[:, [1, 2, 3, 4]].values\n",
    "y = data.iloc[:, [5]].values.ravel()"
   ]
  },
  {
   "cell_type": "code",
   "execution_count": null,
   "id": "80442f49",
   "metadata": {},
   "outputs": [],
   "source": [
    "rbml_ = RBML(x, y)\n",
    "flag = True\n",
    "old_acc = convergence_method(rbml_.x, rbml_.y, rbml_.k)\n",
    "\n",
    "while flag:\n",
    "    print(f\"Accuracy before iteration = {old_acc}\")\n",
    "    x_stars = []\n",
    "    for i in tqdm(range(rbml_.len_)):\n",
    "        x_stars.append(rbml_.xi_star(i))\n",
    "    x_stars = np.array(x_stars)\n",
    "    \n",
    "    rbml_.x = x_stars\n",
    "    new_acc = convergence_method(rbml_.x, rbml_.y, rbml_.k)\n",
    "    print(f\"Accuracy after iteration = {new_acc}\")\n",
    "    if new_acc <= old_acc or new_acc == 1:\n",
    "        flag = False\n",
    "    else:\n",
    "        old_acc = new_acc"
   ]
  },
  {
   "cell_type": "markdown",
   "id": "d11be40e",
   "metadata": {},
   "source": [
    "# Wine Dataset"
   ]
  },
  {
   "cell_type": "code",
   "execution_count": 284,
   "id": "5ff23f4f",
   "metadata": {},
   "outputs": [],
   "source": [
    "from sklearn.datasets import load_wine"
   ]
  },
  {
   "cell_type": "code",
   "execution_count": 285,
   "id": "f0631292",
   "metadata": {},
   "outputs": [],
   "source": [
    "wine_dataset = load_wine()\n",
    "x = wine_dataset['data']\n",
    "y = wine_dataset['target'].ravel()"
   ]
  },
  {
   "cell_type": "code",
   "execution_count": 286,
   "id": "31bfa347",
   "metadata": {},
   "outputs": [
    {
     "name": "stdout",
     "output_type": "stream",
     "text": [
      "Accuracy before iteration = 0.8707865168539326\n"
     ]
    },
    {
     "name": "stderr",
     "output_type": "stream",
     "text": [
      "100%|█████████████████████████████████████████| 178/178 [01:17<00:00,  2.30it/s]\n"
     ]
    },
    {
     "name": "stdout",
     "output_type": "stream",
     "text": [
      "Accuracy after iteration = 0.9719101123595506\n",
      "Accuracy before iteration = 0.9719101123595506\n"
     ]
    },
    {
     "name": "stderr",
     "output_type": "stream",
     "text": [
      "100%|█████████████████████████████████████████| 178/178 [01:18<00:00,  2.26it/s]\n"
     ]
    },
    {
     "name": "stdout",
     "output_type": "stream",
     "text": [
      "Accuracy after iteration = 0.9831460674157303\n",
      "Accuracy before iteration = 0.9831460674157303\n"
     ]
    },
    {
     "name": "stderr",
     "output_type": "stream",
     "text": [
      "100%|█████████████████████████████████████████| 178/178 [01:20<00:00,  2.20it/s]\n"
     ]
    },
    {
     "name": "stdout",
     "output_type": "stream",
     "text": [
      "Accuracy after iteration = 0.9943820224719101\n",
      "Accuracy before iteration = 0.9943820224719101\n"
     ]
    },
    {
     "name": "stderr",
     "output_type": "stream",
     "text": [
      "100%|█████████████████████████████████████████| 178/178 [01:21<00:00,  2.19it/s]"
     ]
    },
    {
     "name": "stdout",
     "output_type": "stream",
     "text": [
      "Accuracy after iteration = 0.9943820224719101\n"
     ]
    },
    {
     "name": "stderr",
     "output_type": "stream",
     "text": [
      "\n"
     ]
    }
   ],
   "source": [
    "rbml_ = RBML(x, y)\n",
    "flag = True\n",
    "old_acc = convergence_method(rbml_.x, rbml_.y, rbml_.k)\n",
    "\n",
    "while flag:\n",
    "    print(f\"Accuracy before iteration = {old_acc}\")\n",
    "    x_stars = []\n",
    "    for i in tqdm(range(rbml_.len_)):\n",
    "        x_stars.append(rbml_.xi_star(i))\n",
    "    x_stars = np.array(x_stars)\n",
    "    \n",
    "    rbml_.x = x_stars\n",
    "    new_acc = convergence_method(rbml_.x, rbml_.y, rbml_.k)\n",
    "    print(f\"Accuracy after iteration = {new_acc}\")\n",
    "    if new_acc <= old_acc or new_acc == 1:\n",
    "        flag = False\n",
    "    else:\n",
    "        old_acc = new_acc"
   ]
  },
  {
   "cell_type": "code",
   "execution_count": 287,
   "id": "ee45456c",
   "metadata": {},
   "outputs": [
    {
     "data": {
      "text/plain": [
       "array([[1.423e+01, 1.710e+00, 2.430e+00, ..., 1.040e+00, 3.920e+00,\n",
       "        1.065e+03],\n",
       "       [1.320e+01, 1.780e+00, 2.140e+00, ..., 1.050e+00, 3.400e+00,\n",
       "        1.050e+03],\n",
       "       [1.316e+01, 2.360e+00, 2.670e+00, ..., 1.030e+00, 3.170e+00,\n",
       "        1.185e+03],\n",
       "       ...,\n",
       "       [1.327e+01, 4.280e+00, 2.260e+00, ..., 5.900e-01, 1.560e+00,\n",
       "        8.350e+02],\n",
       "       [1.317e+01, 2.590e+00, 2.370e+00, ..., 6.000e-01, 1.620e+00,\n",
       "        8.400e+02],\n",
       "       [1.413e+01, 4.100e+00, 2.740e+00, ..., 6.100e-01, 1.600e+00,\n",
       "        5.600e+02]])"
      ]
     },
     "execution_count": 287,
     "metadata": {},
     "output_type": "execute_result"
    }
   ],
   "source": [
    "x"
   ]
  },
  {
   "cell_type": "code",
   "execution_count": 288,
   "id": "44d7ab38",
   "metadata": {},
   "outputs": [
    {
     "data": {
      "text/plain": [
       "array([[ 1.40277686e+01,  2.36218398e+00,  2.33855353e+00, ...,\n",
       "         1.00806591e+00,  3.31799604e+00,  1.06533889e+03],\n",
       "       [ 1.39623265e+01,  1.84175137e+00,  2.23325907e+00, ...,\n",
       "         1.04102498e+00,  3.26060586e+00,  1.04926551e+03],\n",
       "       [ 1.35073377e+01,  1.87059434e+00,  2.44276385e+00, ...,\n",
       "         1.05455344e+00,  3.05733962e+00,  1.17474327e+03],\n",
       "       ...,\n",
       "       [ 1.41133724e+01,  1.71910773e+01,  7.66896323e-01, ...,\n",
       "        -2.23444897e+00, -6.53332962e+00,  7.87660164e+02],\n",
       "       [ 1.42269794e+01,  1.65436210e+01,  9.41199842e-01, ...,\n",
       "        -2.35334217e+00, -6.66921507e+00,  7.87965419e+02],\n",
       "       [ 3.07666063e+01,  1.73370992e+01,  5.35286850e+00, ...,\n",
       "        -4.48617944e+00, -1.38388637e+01,  5.72533920e+02]])"
      ]
     },
     "execution_count": 288,
     "metadata": {},
     "output_type": "execute_result"
    }
   ],
   "source": [
    "rbml_.x"
   ]
  },
  {
   "cell_type": "code",
   "execution_count": null,
   "id": "e662cc08",
   "metadata": {},
   "outputs": [],
   "source": []
  }
 ],
 "metadata": {
  "kernelspec": {
   "display_name": "Python 3 (ipykernel)",
   "language": "python",
   "name": "python3"
  },
  "language_info": {
   "codemirror_mode": {
    "name": "ipython",
    "version": 3
   },
   "file_extension": ".py",
   "mimetype": "text/x-python",
   "name": "python",
   "nbconvert_exporter": "python",
   "pygments_lexer": "ipython3",
   "version": "3.8.2"
  }
 },
 "nbformat": 4,
 "nbformat_minor": 5
}
