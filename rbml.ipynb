{
 "cells": [
  {
   "cell_type": "code",
   "execution_count": null,
   "id": "c489943f",
   "metadata": {},
   "outputs": [],
   "source": [
    "\"\"\"\n",
    "x_label1 = data[data['Species'] == 'Iris-setosa'].iloc[:, [1, 2, 3, 4]].values\n",
    "x_label2 = data[data['Species'] == 'Iris-versicolor'].iloc[:, [1, 2, 3, 4]].values\n",
    "x_label3 = data[data['Species'] == 'Iris-virginica'].iloc[:, [1, 2, 3, 4]].values\n",
    "x_labels = [x_label1, x_label2, x_label3]\n",
    "neigh_label1 = NearestNeighbors(n_neighbors=4)\n",
    "neigh_label2 = NearestNeighbors(n_neighbors=4)\n",
    "neigh_label3 = NearestNeighbors(n_neighbors=4)\n",
    "neigh_label1.fit(x_label1)\n",
    "neigh_label2.fit(x_label2)\n",
    "neigh_label3.fit(x_label3)\n",
    "neighs = [neigh_label1, neigh_label2, neigh_label3]\"\"\"\n",
    "\"\"\"\n",
    "def find_neighbors(x, y, neighs, i):\n",
    "    label_index = labels.tolist().index(y[i])\n",
    "    neighbors = neighs[label_index].kneighbors(x[i].reshape(1, -1), 4, return_distance=False)[:,1:]\n",
    "    neighbors = neighbors + 50*label_index\n",
    "    return neighbors\n",
    "\n",
    "def delta_function(x, y, neighs, i, j):\n",
    "    neighbors = find_neighbors(x, y, neighs, i)\n",
    "    return 1 if j in neighbors else 0\n",
    "    \n",
    "def Tv(x, y, neighs, i):\n",
    "    sum_ = 0\n",
    "    for j, item in enumerate(x):\n",
    "        sum_ += (LA.norm(x[i] - x[j])**2)*delta_function(x, y, neighs, i, j)\n",
    "    return sum_\n",
    "\"\"\"\n",
    "\n",
    "\"\"\"        print(\"la\", LA.norm(x[i] - x[max_index])**2)\n",
    "        print(\"m\", self.m(i))\n",
    "        print(\"t1\", t1)\n",
    "        print(y[i], y[max_index])\n",
    "        print(\"t2\", t2)\n",
    "        input(\"asd\")\"\"\""
   ]
  },
  {
   "cell_type": "code",
   "execution_count": 208,
   "id": "90bdc05a",
   "metadata": {},
   "outputs": [],
   "source": [
    "import pandas as pd\n",
    "import numpy as np\n",
    "import matplotlib.pyplot as plt \n",
    "from sklearn.neighbors import NearestNeighbors\n",
    "from numpy import linalg as LA\n",
    "from tqdm import tqdm"
   ]
  },
  {
   "cell_type": "code",
   "execution_count": 209,
   "id": "81b671c9",
   "metadata": {},
   "outputs": [],
   "source": [
    "data = pd.read_csv(\"IRIS.csv\")"
   ]
  },
  {
   "cell_type": "code",
   "execution_count": 210,
   "id": "cdcdce71",
   "metadata": {},
   "outputs": [],
   "source": [
    "x = data.iloc[:, [1, 2, 3, 4]].values\n",
    "y = data.iloc[:, [5]].values\n",
    "labels = np.unique(y)"
   ]
  },
  {
   "cell_type": "code",
   "execution_count": 239,
   "id": "eab863c8",
   "metadata": {},
   "outputs": [],
   "source": [
    "class RBML:\n",
    "    def __init__(self, x, y, k=3, alpha=0.5, beta=2.):\n",
    "        self.x = x\n",
    "        self.y = y\n",
    "        self.k = k\n",
    "        self.alpha = alpha\n",
    "        self.beta = beta\n",
    "        self.labels = labels = np.unique(self.y)\n",
    "        self.neigh = NearestNeighbors(n_neighbors=4)\n",
    "        self.neigh.fit(self.x)\n",
    "        \n",
    "    def find_neighbors(self, i):\n",
    "        neighbors = self.neigh.kneighbors(self.x[i].reshape(1, -1), 4, return_distance=False)[:,1:]\n",
    "        return neighbors\n",
    "    \n",
    "    def delta_t(self, i, j):\n",
    "        neighbors = self.find_neighbors(i)\n",
    "        return 1 if j in neighbors else 0\n",
    "    \n",
    "    def Tv(self, i):\n",
    "        sum_ = 0\n",
    "        for j in range(len(self.x)):\n",
    "            sum_ += (LA.norm(x[i] - x[j])**2)*self.delta_t(i, j)\n",
    "        return sum_\n",
    "    \n",
    "    def TX(self):\n",
    "        sum_ = 0\n",
    "        print(\"TX calculation started\")\n",
    "        for i in tqdm(range(len(self.x))):\n",
    "            sum_ += self.Tv(i)\n",
    "        return sum_\n",
    "    \n",
    "    def m(self, i):\n",
    "        neighbors = self.find_neighbors(i)\n",
    "        max_ = self.x[neighbors[:,-1]]\n",
    "        mi = self.beta*(LA.norm(x[i] - max_)**2)*self.delta_t(i, neighbors[:,-1])\n",
    "        return mi\n",
    "    \n",
    "    def delta_i(self, i):\n",
    "        neighbors = self.find_neighbors(i)\n",
    "        max_index = neighbors[:,-1]\n",
    "        t1 = (LA.norm(x[i] - x[max_index])**2 < self.m(i))\n",
    "        t2 = (y[i] != y[max_index])\n",
    "        return 1 if (LA.norm(x[i] - x[max_index])**2 < self.m(i)) and (y[i] != y[max_index]) else 0\n",
    "    \n",
    "    def Hv(self, i):\n",
    "        sum_ = 0\n",
    "        for j in range(len(self.x)):\n",
    "            sum_ += (self.m(i) - LA.norm(x[i] - x[j])**2)*self.delta_i(i)\n",
    "        return sum_\n",
    "    \n",
    "    def HX(self):\n",
    "        sum_ = 0\n",
    "        print(\"HX calculation started\")\n",
    "        for i in tqdm(range(len(self.x))):\n",
    "            sum_ += self.Hv(i)\n",
    "        return sum_\n",
    "    \n",
    "    def C(self):\n",
    "        return (1-self.alpha)*self.TX() + self.alpha*self.HX()\n",
    "    \n",
    "    def xiN(self, i):\n",
    "        sum_ = 0\n",
    "        sum_t = 0\n",
    "        for j in range(len(self.x)):\n",
    "            sum_ += self.x[j]*self.delta_t(i,j)\n",
    "            sum_t += self.delta_t(i,j)\n",
    "        \n",
    "        return sum_/sum_t\n",
    "    \n",
    "    def xjI(self, i):\n",
    "        sum_ = 0\n",
    "        sum_t = 0\n",
    "        for j in range(len(self.x)):\n",
    "            sum_ += self.x[j]*self.delta_i(i)\n",
    "            sum_t += self.delta_i(i)\n",
    "        # TODO: DEGISECEK\n",
    "        return sum_/sum_t if sum_t != 0 else 0\n",
    "    \n",
    "    # Updated hinge loss\n",
    "    def Hv_(self, i):\n",
    "        return max(0, (self.m(i) - LA.norm(x[i] - self.xjI(i))**2))\n",
    "    \n",
    "    def xiH(self, i):\n",
    "        return self.x[i] + self.m(i)*((self.x[i]-self.xjI(i))/(LA.norm(x[i] - self.xjI(i))**2))  \n",
    "    \n",
    "    def xi_star(self, i):\n",
    "        return (1-self.alpha)*self.xiN(i) + self.alpha*self.xiH(i)"
   ]
  },
  {
   "cell_type": "code",
   "execution_count": 237,
   "id": "8469c5bf",
   "metadata": {},
   "outputs": [],
   "source": [
    "rbml_ = RBML(x, y)"
   ]
  },
  {
   "cell_type": "code",
   "execution_count": 238,
   "id": "ff27cba9",
   "metadata": {},
   "outputs": [
    {
     "name": "stdout",
     "output_type": "stream",
     "text": [
      "[15.2 10.5  4.3  0.7] 3\n",
      "[0. 0. 0. 0.] 0\n",
      "[0. 0. 0. 0.] 0\n"
     ]
    },
    {
     "data": {
      "text/plain": [
       "array([5.08586687, 3.5017387 , 1.41736215, 0.21676602])"
      ]
     },
     "execution_count": 238,
     "metadata": {},
     "output_type": "execute_result"
    }
   ],
   "source": [
    "rbml_.xi_star(0)"
   ]
  },
  {
   "cell_type": "code",
   "execution_count": 240,
   "id": "d02bf92b",
   "metadata": {},
   "outputs": [
    {
     "data": {
      "text/plain": [
       "array([1. , 5.1, 3.5, 1.4, 0.2])"
      ]
     },
     "execution_count": 240,
     "metadata": {},
     "output_type": "execute_result"
    }
   ],
   "source": [
    "X[0]"
   ]
  },
  {
   "cell_type": "code",
   "execution_count": null,
   "id": "5bc0d08e",
   "metadata": {},
   "outputs": [],
   "source": []
  }
 ],
 "metadata": {
  "kernelspec": {
   "display_name": "Python 3 (ipykernel)",
   "language": "python",
   "name": "python3"
  },
  "language_info": {
   "codemirror_mode": {
    "name": "ipython",
    "version": 3
   },
   "file_extension": ".py",
   "mimetype": "text/x-python",
   "name": "python",
   "nbconvert_exporter": "python",
   "pygments_lexer": "ipython3",
   "version": "3.8.2"
  }
 },
 "nbformat": 4,
 "nbformat_minor": 5
}
